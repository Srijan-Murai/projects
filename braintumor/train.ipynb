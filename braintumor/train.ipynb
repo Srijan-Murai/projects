{
 "cells": [
  {
   "cell_type": "markdown",
   "metadata": {},
   "source": [
    "## This code was ran in Kaggle and the model was exported from there. The data set link used to train the model is here: https://www.kaggle.com/datasets/sartajbhuvaji/brain-tumor-classification-mri"
   ]
  },
  {
   "cell_type": "code",
   "execution_count": null,
   "metadata": {},
   "outputs": [],
   "source": [
    "import os\n",
    "import numpy as np\n",
    "import pandas as pd\n",
    "import random as rand\n",
    "import matplotlib.pyplot as plt\n",
    "import keras\n",
    "from keras.models import Sequential\n",
    "from keras.layers import Conv2D,Flatten,Dense,MaxPooling2D,Dropout\n",
    "from sklearn.model_selection import train_test_split\n",
    "import cv2\n",
    "from sklearn.utils import shuffle\n",
    "import tensorflow as tf\n",
    "import pickle\n",
    "from tensorflow.keras.callbacks import ModelCheckpoint, EarlyStopping, ReduceLROnPlateau"
   ]
  },
  {
   "cell_type": "markdown",
   "metadata": {},
   "source": [
    "# Folder Paths"
   ]
  },
  {
   "cell_type": "code",
   "execution_count": null,
   "metadata": {},
   "outputs": [],
   "source": [
    "X_train = []\n",
    "Y_train = []\n",
    "image_size = 224\n",
    "labels = ['glioma_tumor','meningioma_tumor','no_tumor','pituitary_tumor']\n",
    "trts = ['Training','Testing']\n",
    "\n",
    "for i in labels:\n",
    "    for t in trts:\n",
    "        folderPath = os.path.join(f'../input/brain-tumor-classification-mri/{t}',i)\n",
    "        for j in os.listdir(folderPath):\n",
    "            img = cv2.imread(os.path.join(folderPath,j))\n",
    "            img = cv2.resize(img,(image_size,image_size))\n",
    "            X_train.append(img)\n",
    "            Y_train.append(i)\n",
    "\n",
    "X_train = np.array(X_train)\n",
    "Y_train = np.array(Y_train)"
   ]
  },
  {
   "cell_type": "code",
   "execution_count": null,
   "metadata": {},
   "outputs": [],
   "source": [
    "X_train,Y_train = shuffle(X_train,Y_train,random_state=101)\n",
    "X_train.shape"
   ]
  },
  {
   "cell_type": "markdown",
   "metadata": {},
   "source": [
    "# Train testing split"
   ]
  },
  {
   "cell_type": "code",
   "execution_count": null,
   "metadata": {},
   "outputs": [],
   "source": [
    "X_train,X_test,y_train,y_test = train_test_split(X_train,Y_train,test_size=0.1,random_state=101)\n",
    "\n",
    "#turning string labels to integer values then converting to binary matrix\n",
    "\n",
    "y_train_new = []\n",
    "for i in y_train:\n",
    "    y_train_new.append(labels.index(i))\n",
    "y_train=y_train_new\n",
    "y_train = tf.keras.utils.to_categorical(y_train)\n",
    "\n",
    "y_test_new = []\n",
    "for i in y_test:\n",
    "    y_test_new.append(labels.index(i))\n",
    "y_test=y_test_new\n",
    "y_test = tf.keras.utils.to_categorical(y_test)"
   ]
  },
  {
   "cell_type": "markdown",
   "metadata": {},
   "source": [
    "# Convolutional Neural Network"
   ]
  },
  {
   "cell_type": "code",
   "execution_count": null,
   "metadata": {},
   "outputs": [],
   "source": [
    "model = Sequential()\n",
    "model.add(Conv2D(32,(3,3),activation = 'relu',input_shape=(image_size,image_size,3)))\n",
    "model.add(Conv2D(64,(3,3),activation='relu'))\n",
    "model.add(MaxPooling2D(2,2))\n",
    "model.add(Dropout(0.3))\n",
    "model.add(Conv2D(64,(3,3),activation='relu'))\n",
    "model.add(Conv2D(64,(3,3),activation='relu'))\n",
    "model.add(Dropout(0.3))\n",
    "model.add(MaxPooling2D(2,2))\n",
    "model.add(Dropout(0.3))\n",
    "model.add(Conv2D(128,(3,3),activation='relu'))\n",
    "model.add(Conv2D(128,(3,3),activation='relu'))\n",
    "model.add(Conv2D(128,(3,3),activation='relu'))\n",
    "model.add(MaxPooling2D(2,2))\n",
    "model.add(Dropout(0.3))\n",
    "model.add(Conv2D(128,(3,3),activation='relu'))\n",
    "model.add(Conv2D(256,(3,3),activation='relu'))\n",
    "model.add(MaxPooling2D(2,2))\n",
    "model.add(Dropout(0.3))\n",
    "model.add(Flatten())\n",
    "model.add(Dense(512,activation = 'relu'))\n",
    "model.add(Dense(512,activation = 'relu'))\n",
    "model.add(Dropout(0.3))\n",
    "model.add(Dense(len(labels),activation='softmax'))\n",
    "\n",
    "callbacks = [\n",
    "    # Save the best model based on validation accuracy\n",
    "    ModelCheckpoint('braintumor.keras', monitor='val_loss', save_best_only=True, verbose=1),\n",
    "    \n",
    "    # Stop training if validation accuracy is not improving for 5 epochs\n",
    "    EarlyStopping(monitor='val_loss', patience=10, verbose=1, restore_best_weights=True),\n",
    "    \n",
    "    # Reduce learning rate if validation loss is not improving\n",
    "    ReduceLROnPlateau(monitor='val_loss', factor=0.2, patience=6, verbose=1)\n",
    "]"
   ]
  },
  {
   "cell_type": "code",
   "execution_count": null,
   "metadata": {},
   "outputs": [],
   "source": [
    "model.compile(loss='categorical_crossentropy',optimizer='Adam',metrics=['accuracy'])\n",
    "history = model.fit(X_train,y_train,epochs=20,validation_split=0.2, callbacks=callbacks,verbose=0)\n",
    "model.save('braintumor.h5')\n",
    "with open('/kaggle/working/braintumor.pkl', 'wb') as f:\n",
    "    pickle.dump(model, f)\n",
    "\n",
    "fig, (ax1, ax2) = plt.subplots(1,2, figsize = (10,4))\n",
    "ax1.plot(history.history['loss'], label = 'loss')\n",
    "ax1.plot(history.history['val_loss'], label = 'val_loss')\n",
    "ax1.set_xlabel('Epoch')\n",
    "ax1.set_ylabel('Categorical Crossentropy Loss')\n",
    "\n",
    "ax2.plot(history.history['accuracy'], label = 'accuracy')\n",
    "ax2.plot(history.history['val_accuracy'], label = 'val_accuracy')\n",
    "ax2.set_xlabel('Epoch')\n",
    "ax2.set_ylabel('Accuracy')\n",
    "\n",
    "plt.legend()\n",
    "plt.grid(False)\n",
    "plt.show()"
   ]
  },
  {
   "cell_type": "markdown",
   "metadata": {},
   "source": [
    "# Prediction"
   ]
  },
  {
   "cell_type": "code",
   "execution_count": null,
   "metadata": {},
   "outputs": [],
   "source": [
    "def result(filepathinput,m):\n",
    "    img = cv2.imread(filepathinput)\n",
    "    img = cv2.resize(img,(image_size,image_size))\n",
    "    img_array = np.array(img)\n",
    "    img_array = img_array.reshape(1,image_size,image_size,3)\n",
    "#     img = image.load_img(filepathinput)\n",
    "    plt.imshow(img,interpolation = 'nearest')\n",
    "    plt.show()\n",
    "\n",
    "    prediction = m.predict(img_array)\n",
    "\n",
    "    indices = prediction.argmax()\n",
    "    types = labels[indices]\n",
    "    match types:\n",
    "        case 'glioma_tumor':\n",
    "            tumor = 'Glioma Tumor'\n",
    "        case 'meningioma_tumor':\n",
    "            tumor = 'Meningioma Tumor'\n",
    "        case 'no_tumor':\n",
    "            tumor = 'No Tumor'\n",
    "        case 'pituitary_tumor':\n",
    "            tumor = 'Pituitary Tumor'\n",
    "        case _:\n",
    "            tumor = 'Unable to identify'\n",
    "            \n",
    "\n",
    "    confidence = np.max(prediction) * 100\n",
    "    print(f'Tumor Type: {tumor}        Confidence Level: {confidence:.2f}%')\n",
    "    return prediction"
   ]
  },
  {
   "cell_type": "markdown",
   "metadata": {},
   "source": [
    "## Use this cell to test accuracy of model"
   ]
  },
  {
   "cell_type": "code",
   "execution_count": null,
   "metadata": {},
   "outputs": [],
   "source": [
    "x = rand.randint(1,100)\n",
    "y = rand.choice(labels)\n",
    "filepathinput = f'/kaggle/input/brain-tumor-classification-mri/Testing/{y}/image({x}).jpg'\n",
    "res = result(filepathinput, model)\n",
    "print(f'Actual Type: {y}')\n",
    "\n",
    "for i in range(4):\n",
    "    print(f'Probability of {labels[i]}: {res[0][i]:.6f}')"
   ]
  }
 ],
 "metadata": {
  "language_info": {
   "name": "python"
  }
 },
 "nbformat": 4,
 "nbformat_minor": 2
}
